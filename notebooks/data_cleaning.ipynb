{
 "cells": [
  {
   "cell_type": "markdown",
   "metadata": {},
   "source": [
    "# Data Preprocessing"
   ]
  },
  {
   "cell_type": "code",
   "execution_count": 17,
   "metadata": {},
   "outputs": [],
   "source": [
    "import numpy as np\n",
    "import pandas as pd\n",
    "import re\n",
    "import nltk\n",
    "import string"
   ]
  },
  {
   "cell_type": "code",
   "execution_count": 18,
   "metadata": {},
   "outputs": [
    {
     "data": {
      "text/html": [
       "<div>\n",
       "<style scoped>\n",
       "    .dataframe tbody tr th:only-of-type {\n",
       "        vertical-align: middle;\n",
       "    }\n",
       "\n",
       "    .dataframe tbody tr th {\n",
       "        vertical-align: top;\n",
       "    }\n",
       "\n",
       "    .dataframe thead th {\n",
       "        text-align: right;\n",
       "    }\n",
       "</style>\n",
       "<table border=\"1\" class=\"dataframe\">\n",
       "  <thead>\n",
       "    <tr style=\"text-align: right;\">\n",
       "      <th></th>\n",
       "      <th>Video ID</th>\n",
       "      <th>Comment</th>\n",
       "      <th>Likes</th>\n",
       "      <th>Sentiment</th>\n",
       "    </tr>\n",
       "  </thead>\n",
       "  <tbody>\n",
       "    <tr>\n",
       "      <th>0</th>\n",
       "      <td>wAZZ-UWGVHI</td>\n",
       "      <td>Let's not forget that Apple Pay in 2014 requir...</td>\n",
       "      <td>95.0</td>\n",
       "      <td>1.0</td>\n",
       "    </tr>\n",
       "    <tr>\n",
       "      <th>1</th>\n",
       "      <td>wAZZ-UWGVHI</td>\n",
       "      <td>Here in NZ 50% of retailers don’t even have co...</td>\n",
       "      <td>19.0</td>\n",
       "      <td>0.0</td>\n",
       "    </tr>\n",
       "    <tr>\n",
       "      <th>2</th>\n",
       "      <td>wAZZ-UWGVHI</td>\n",
       "      <td>I will forever acknowledge this channel with t...</td>\n",
       "      <td>161.0</td>\n",
       "      <td>2.0</td>\n",
       "    </tr>\n",
       "    <tr>\n",
       "      <th>3</th>\n",
       "      <td>wAZZ-UWGVHI</td>\n",
       "      <td>Whenever I go to a place that doesn’t take App...</td>\n",
       "      <td>8.0</td>\n",
       "      <td>0.0</td>\n",
       "    </tr>\n",
       "    <tr>\n",
       "      <th>4</th>\n",
       "      <td>wAZZ-UWGVHI</td>\n",
       "      <td>Apple Pay is so convenient, secure, and easy t...</td>\n",
       "      <td>34.0</td>\n",
       "      <td>2.0</td>\n",
       "    </tr>\n",
       "  </tbody>\n",
       "</table>\n",
       "</div>"
      ],
      "text/plain": [
       "      Video ID                                            Comment  Likes  \\\n",
       "0  wAZZ-UWGVHI  Let's not forget that Apple Pay in 2014 requir...   95.0   \n",
       "1  wAZZ-UWGVHI  Here in NZ 50% of retailers don’t even have co...   19.0   \n",
       "2  wAZZ-UWGVHI  I will forever acknowledge this channel with t...  161.0   \n",
       "3  wAZZ-UWGVHI  Whenever I go to a place that doesn’t take App...    8.0   \n",
       "4  wAZZ-UWGVHI  Apple Pay is so convenient, secure, and easy t...   34.0   \n",
       "\n",
       "   Sentiment  \n",
       "0        1.0  \n",
       "1        0.0  \n",
       "2        2.0  \n",
       "3        0.0  \n",
       "4        2.0  "
      ]
     },
     "execution_count": 18,
     "metadata": {},
     "output_type": "execute_result"
    }
   ],
   "source": [
    "df = pd.read_csv(\"../data/raw/comments.csv\", index_col=0, sep=',')\n",
    "df[\"Comment\"] = df[\"Comment\"].astype(str)\n",
    "df.head()"
   ]
  },
  {
   "cell_type": "code",
   "execution_count": 19,
   "metadata": {},
   "outputs": [
    {
     "name": "stdout",
     "output_type": "stream",
     "text": [
      "<class 'pandas.core.frame.DataFrame'>\n",
      "Int64Index: 18409 entries, 0 to 18408\n",
      "Data columns (total 4 columns):\n",
      " #   Column     Non-Null Count  Dtype  \n",
      "---  ------     --------------  -----  \n",
      " 0   Video ID   18409 non-null  object \n",
      " 1   Comment    18409 non-null  object \n",
      " 2   Likes      18409 non-null  float64\n",
      " 3   Sentiment  18409 non-null  float64\n",
      "dtypes: float64(2), object(2)\n",
      "memory usage: 719.1+ KB\n"
     ]
    }
   ],
   "source": [
    "df.info()"
   ]
  },
  {
   "cell_type": "code",
   "execution_count": 20,
   "metadata": {},
   "outputs": [
    {
     "data": {
      "text/plain": [
       "Video ID      1869\n",
       "Comment      17995\n",
       "Likes         2539\n",
       "Sentiment        3\n",
       "dtype: int64"
      ]
     },
     "execution_count": 20,
     "metadata": {},
     "output_type": "execute_result"
    }
   ],
   "source": [
    "df.nunique()"
   ]
  },
  {
   "cell_type": "code",
   "execution_count": 30,
   "metadata": {},
   "outputs": [
    {
     "data": {
      "text/html": [
       "<div>\n",
       "<style scoped>\n",
       "    .dataframe tbody tr th:only-of-type {\n",
       "        vertical-align: middle;\n",
       "    }\n",
       "\n",
       "    .dataframe tbody tr th {\n",
       "        vertical-align: top;\n",
       "    }\n",
       "\n",
       "    .dataframe thead th {\n",
       "        text-align: right;\n",
       "    }\n",
       "</style>\n",
       "<table border=\"1\" class=\"dataframe\">\n",
       "  <thead>\n",
       "    <tr style=\"text-align: right;\">\n",
       "      <th></th>\n",
       "      <th>Video ID</th>\n",
       "      <th>Comment</th>\n",
       "      <th>Likes</th>\n",
       "      <th>Sentiment</th>\n",
       "    </tr>\n",
       "  </thead>\n",
       "  <tbody>\n",
       "    <tr>\n",
       "      <th>0</th>\n",
       "      <td>wAZZ-UWGVHI</td>\n",
       "      <td>Lets not forget that Apple Pay in 2014 require...</td>\n",
       "      <td>95.0</td>\n",
       "      <td>1.0</td>\n",
       "    </tr>\n",
       "    <tr>\n",
       "      <th>1</th>\n",
       "      <td>wAZZ-UWGVHI</td>\n",
       "      <td>Here in NZ 50 of retailers don’t even have con...</td>\n",
       "      <td>19.0</td>\n",
       "      <td>0.0</td>\n",
       "    </tr>\n",
       "    <tr>\n",
       "      <th>2</th>\n",
       "      <td>wAZZ-UWGVHI</td>\n",
       "      <td>I will forever acknowledge this channel with t...</td>\n",
       "      <td>161.0</td>\n",
       "      <td>2.0</td>\n",
       "    </tr>\n",
       "    <tr>\n",
       "      <th>3</th>\n",
       "      <td>wAZZ-UWGVHI</td>\n",
       "      <td>Whenever I go to a place that doesn’t take App...</td>\n",
       "      <td>8.0</td>\n",
       "      <td>0.0</td>\n",
       "    </tr>\n",
       "    <tr>\n",
       "      <th>4</th>\n",
       "      <td>wAZZ-UWGVHI</td>\n",
       "      <td>Apple Pay is so convenient secure and easy to ...</td>\n",
       "      <td>34.0</td>\n",
       "      <td>2.0</td>\n",
       "    </tr>\n",
       "    <tr>\n",
       "      <th>...</th>\n",
       "      <td>...</td>\n",
       "      <td>...</td>\n",
       "      <td>...</td>\n",
       "      <td>...</td>\n",
       "    </tr>\n",
       "    <tr>\n",
       "      <th>18404</th>\n",
       "      <td>cyLWtMSry58</td>\n",
       "      <td>I really like the point about engineering tool...</td>\n",
       "      <td>0.0</td>\n",
       "      <td>2.0</td>\n",
       "    </tr>\n",
       "    <tr>\n",
       "      <th>18405</th>\n",
       "      <td>cyLWtMSry58</td>\n",
       "      <td>I’ve just started exploring this field And thi...</td>\n",
       "      <td>20.0</td>\n",
       "      <td>2.0</td>\n",
       "    </tr>\n",
       "    <tr>\n",
       "      <th>18406</th>\n",
       "      <td>cyLWtMSry58</td>\n",
       "      <td>Excelente video con una pregunta filosófica pr...</td>\n",
       "      <td>1.0</td>\n",
       "      <td>1.0</td>\n",
       "    </tr>\n",
       "    <tr>\n",
       "      <th>18407</th>\n",
       "      <td>cyLWtMSry58</td>\n",
       "      <td>Hey Daniel just discovered your channel a coup...</td>\n",
       "      <td>35.0</td>\n",
       "      <td>2.0</td>\n",
       "    </tr>\n",
       "    <tr>\n",
       "      <th>18408</th>\n",
       "      <td>cyLWtMSry58</td>\n",
       "      <td>This is great Focus is key A playful approach ...</td>\n",
       "      <td>0.0</td>\n",
       "      <td>2.0</td>\n",
       "    </tr>\n",
       "  </tbody>\n",
       "</table>\n",
       "<p>18409 rows × 4 columns</p>\n",
       "</div>"
      ],
      "text/plain": [
       "          Video ID                                            Comment  Likes  \\\n",
       "0      wAZZ-UWGVHI  Lets not forget that Apple Pay in 2014 require...   95.0   \n",
       "1      wAZZ-UWGVHI  Here in NZ 50 of retailers don’t even have con...   19.0   \n",
       "2      wAZZ-UWGVHI  I will forever acknowledge this channel with t...  161.0   \n",
       "3      wAZZ-UWGVHI  Whenever I go to a place that doesn’t take App...    8.0   \n",
       "4      wAZZ-UWGVHI  Apple Pay is so convenient secure and easy to ...   34.0   \n",
       "...            ...                                                ...    ...   \n",
       "18404  cyLWtMSry58  I really like the point about engineering tool...    0.0   \n",
       "18405  cyLWtMSry58  I’ve just started exploring this field And thi...   20.0   \n",
       "18406  cyLWtMSry58  Excelente video con una pregunta filosófica pr...    1.0   \n",
       "18407  cyLWtMSry58  Hey Daniel just discovered your channel a coup...   35.0   \n",
       "18408  cyLWtMSry58  This is great Focus is key A playful approach ...    0.0   \n",
       "\n",
       "       Sentiment  \n",
       "0            1.0  \n",
       "1            0.0  \n",
       "2            2.0  \n",
       "3            0.0  \n",
       "4            2.0  \n",
       "...          ...  \n",
       "18404        2.0  \n",
       "18405        2.0  \n",
       "18406        1.0  \n",
       "18407        2.0  \n",
       "18408        2.0  \n",
       "\n",
       "[18409 rows x 4 columns]"
      ]
     },
     "execution_count": 30,
     "metadata": {},
     "output_type": "execute_result"
    }
   ],
   "source": [
    "from data import make_dataset\n",
    "\n",
    "df_clean = make_dataset.clean_data(df, text_col='Comment')\n",
    "df_clean"
   ]
  },
  {
   "cell_type": "markdown",
   "metadata": {},
   "source": [
    "There are 100 videos with less then 10 comments:"
   ]
  },
  {
   "cell_type": "code",
   "execution_count": 5,
   "metadata": {},
   "outputs": [
    {
     "data": {
      "text/plain": [
       "100"
      ]
     },
     "execution_count": 5,
     "metadata": {},
     "output_type": "execute_result"
    }
   ],
   "source": [
    "df_video = df_clean.groupby('Video ID').count().reset_index()\n",
    "df_video = df_video[['Video ID','Comment']]\n",
    "sum(df_video['Comment'] < 10)"
   ]
  },
  {
   "cell_type": "markdown",
   "metadata": {},
   "source": [
    "As the number of comments in those videos is very disperse, we will delete those videos from the data set."
   ]
  },
  {
   "cell_type": "code",
   "execution_count": 6,
   "metadata": {},
   "outputs": [
    {
     "data": {
      "text/html": [
       "<div>\n",
       "<style scoped>\n",
       "    .dataframe tbody tr th:only-of-type {\n",
       "        vertical-align: middle;\n",
       "    }\n",
       "\n",
       "    .dataframe tbody tr th {\n",
       "        vertical-align: top;\n",
       "    }\n",
       "\n",
       "    .dataframe thead th {\n",
       "        text-align: right;\n",
       "    }\n",
       "</style>\n",
       "<table border=\"1\" class=\"dataframe\">\n",
       "  <thead>\n",
       "    <tr style=\"text-align: right;\">\n",
       "      <th></th>\n",
       "      <th>Video ID</th>\n",
       "      <th>Comment</th>\n",
       "    </tr>\n",
       "  </thead>\n",
       "  <tbody>\n",
       "    <tr>\n",
       "      <th>9</th>\n",
       "      <td>-D4S6TpnO44</td>\n",
       "      <td>2</td>\n",
       "    </tr>\n",
       "    <tr>\n",
       "      <th>21</th>\n",
       "      <td>-VVLmBXHvL8</td>\n",
       "      <td>5</td>\n",
       "    </tr>\n",
       "    <tr>\n",
       "      <th>28</th>\n",
       "      <td>-o380SFxMrg</td>\n",
       "      <td>6</td>\n",
       "    </tr>\n",
       "    <tr>\n",
       "      <th>63</th>\n",
       "      <td>0vEdNPoeemQ</td>\n",
       "      <td>1</td>\n",
       "    </tr>\n",
       "    <tr>\n",
       "      <th>73</th>\n",
       "      <td>191wd4NscHo</td>\n",
       "      <td>7</td>\n",
       "    </tr>\n",
       "    <tr>\n",
       "      <th>...</th>\n",
       "      <td>...</td>\n",
       "      <td>...</td>\n",
       "    </tr>\n",
       "    <tr>\n",
       "      <th>1730</th>\n",
       "      <td>vcmv3tfuk9I</td>\n",
       "      <td>7</td>\n",
       "    </tr>\n",
       "    <tr>\n",
       "      <th>1734</th>\n",
       "      <td>vl9E6lND4V0</td>\n",
       "      <td>9</td>\n",
       "    </tr>\n",
       "    <tr>\n",
       "      <th>1736</th>\n",
       "      <td>voU9-39bicg</td>\n",
       "      <td>1</td>\n",
       "    </tr>\n",
       "    <tr>\n",
       "      <th>1763</th>\n",
       "      <td>wjhbTqGt5tc</td>\n",
       "      <td>1</td>\n",
       "    </tr>\n",
       "    <tr>\n",
       "      <th>1834</th>\n",
       "      <td>z-cctqMrgSE</td>\n",
       "      <td>4</td>\n",
       "    </tr>\n",
       "  </tbody>\n",
       "</table>\n",
       "<p>100 rows × 2 columns</p>\n",
       "</div>"
      ],
      "text/plain": [
       "         Video ID  Comment\n",
       "9     -D4S6TpnO44        2\n",
       "21    -VVLmBXHvL8        5\n",
       "28    -o380SFxMrg        6\n",
       "63    0vEdNPoeemQ        1\n",
       "73    191wd4NscHo        7\n",
       "...           ...      ...\n",
       "1730  vcmv3tfuk9I        7\n",
       "1734  vl9E6lND4V0        9\n",
       "1736  voU9-39bicg        1\n",
       "1763  wjhbTqGt5tc        1\n",
       "1834  z-cctqMrgSE        4\n",
       "\n",
       "[100 rows x 2 columns]"
      ]
     },
     "execution_count": 6,
     "metadata": {},
     "output_type": "execute_result"
    }
   ],
   "source": [
    "df_video[df_video['Comment'] < 10]"
   ]
  },
  {
   "cell_type": "markdown",
   "metadata": {},
   "source": [
    "We will keep the videos with 20 comments."
   ]
  },
  {
   "cell_type": "code",
   "execution_count": 7,
   "metadata": {},
   "outputs": [
    {
     "data": {
      "text/html": [
       "<div>\n",
       "<style scoped>\n",
       "    .dataframe tbody tr th:only-of-type {\n",
       "        vertical-align: middle;\n",
       "    }\n",
       "\n",
       "    .dataframe tbody tr th {\n",
       "        vertical-align: top;\n",
       "    }\n",
       "\n",
       "    .dataframe thead th {\n",
       "        text-align: right;\n",
       "    }\n",
       "</style>\n",
       "<table border=\"1\" class=\"dataframe\">\n",
       "  <thead>\n",
       "    <tr style=\"text-align: right;\">\n",
       "      <th></th>\n",
       "      <th>Video ID</th>\n",
       "      <th>Comment</th>\n",
       "    </tr>\n",
       "  </thead>\n",
       "  <tbody>\n",
       "    <tr>\n",
       "      <th>111</th>\n",
       "      <td>2FYvHn12pOQ</td>\n",
       "      <td>20</td>\n",
       "    </tr>\n",
       "    <tr>\n",
       "      <th>178</th>\n",
       "      <td>4mgePWWCAmA</td>\n",
       "      <td>20</td>\n",
       "    </tr>\n",
       "    <tr>\n",
       "      <th>203</th>\n",
       "      <td>5q87K1WaoFI</td>\n",
       "      <td>20</td>\n",
       "    </tr>\n",
       "    <tr>\n",
       "      <th>251</th>\n",
       "      <td>7eh4d6sabA0</td>\n",
       "      <td>20</td>\n",
       "    </tr>\n",
       "    <tr>\n",
       "      <th>283</th>\n",
       "      <td>96mrgd8-3yE</td>\n",
       "      <td>20</td>\n",
       "    </tr>\n",
       "    <tr>\n",
       "      <th>630</th>\n",
       "      <td>LeC5yJq4tsI</td>\n",
       "      <td>20</td>\n",
       "    </tr>\n",
       "    <tr>\n",
       "      <th>795</th>\n",
       "      <td>R-R0KrXvWbc</td>\n",
       "      <td>20</td>\n",
       "    </tr>\n",
       "    <tr>\n",
       "      <th>808</th>\n",
       "      <td>RFMi3v0TXP8</td>\n",
       "      <td>20</td>\n",
       "    </tr>\n",
       "    <tr>\n",
       "      <th>949</th>\n",
       "      <td>WBK2_lD7KGA</td>\n",
       "      <td>16</td>\n",
       "    </tr>\n",
       "    <tr>\n",
       "      <th>1051</th>\n",
       "      <td>ZgeorpjGJC0</td>\n",
       "      <td>20</td>\n",
       "    </tr>\n",
       "    <tr>\n",
       "      <th>1419</th>\n",
       "      <td>kkOweffr3II</td>\n",
       "      <td>20</td>\n",
       "    </tr>\n",
       "    <tr>\n",
       "      <th>1480</th>\n",
       "      <td>mqc6QqoGNWI</td>\n",
       "      <td>20</td>\n",
       "    </tr>\n",
       "  </tbody>\n",
       "</table>\n",
       "</div>"
      ],
      "text/plain": [
       "         Video ID  Comment\n",
       "111   2FYvHn12pOQ       20\n",
       "178   4mgePWWCAmA       20\n",
       "203   5q87K1WaoFI       20\n",
       "251   7eh4d6sabA0       20\n",
       "283   96mrgd8-3yE       20\n",
       "630   LeC5yJq4tsI       20\n",
       "795   R-R0KrXvWbc       20\n",
       "808   RFMi3v0TXP8       20\n",
       "949   WBK2_lD7KGA       16\n",
       "1051  ZgeorpjGJC0       20\n",
       "1419  kkOweffr3II       20\n",
       "1480  mqc6QqoGNWI       20"
      ]
     },
     "execution_count": 7,
     "metadata": {},
     "output_type": "execute_result"
    }
   ],
   "source": [
    "df_video[df_video['Comment'] > 10]"
   ]
  },
  {
   "cell_type": "code",
   "execution_count": 8,
   "metadata": {},
   "outputs": [],
   "source": [
    "video_comments = dict(df_video.values)"
   ]
  },
  {
   "cell_type": "code",
   "execution_count": 9,
   "metadata": {},
   "outputs": [],
   "source": [
    "df_clean['Num_Comments'] = [video_comments[video] for video in df_clean['Video ID']]"
   ]
  },
  {
   "cell_type": "code",
   "execution_count": 10,
   "metadata": {},
   "outputs": [
    {
     "data": {
      "text/html": [
       "<div>\n",
       "<style scoped>\n",
       "    .dataframe tbody tr th:only-of-type {\n",
       "        vertical-align: middle;\n",
       "    }\n",
       "\n",
       "    .dataframe tbody tr th {\n",
       "        vertical-align: top;\n",
       "    }\n",
       "\n",
       "    .dataframe thead th {\n",
       "        text-align: right;\n",
       "    }\n",
       "</style>\n",
       "<table border=\"1\" class=\"dataframe\">\n",
       "  <thead>\n",
       "    <tr style=\"text-align: right;\">\n",
       "      <th></th>\n",
       "      <th>Video ID</th>\n",
       "      <th>Comment</th>\n",
       "      <th>Likes</th>\n",
       "      <th>Sentiment</th>\n",
       "      <th>Num_Comments</th>\n",
       "    </tr>\n",
       "  </thead>\n",
       "  <tbody>\n",
       "    <tr>\n",
       "      <th>0</th>\n",
       "      <td>wAZZ-UWGVHI</td>\n",
       "      <td>Lets not forget that Apple Pay in 2014 require...</td>\n",
       "      <td>95.0</td>\n",
       "      <td>1.0</td>\n",
       "      <td>10</td>\n",
       "    </tr>\n",
       "    <tr>\n",
       "      <th>1</th>\n",
       "      <td>wAZZ-UWGVHI</td>\n",
       "      <td>Here in NZ 50 of retailers don’t even have con...</td>\n",
       "      <td>19.0</td>\n",
       "      <td>0.0</td>\n",
       "      <td>10</td>\n",
       "    </tr>\n",
       "    <tr>\n",
       "      <th>2</th>\n",
       "      <td>wAZZ-UWGVHI</td>\n",
       "      <td>I will forever acknowledge this channel with t...</td>\n",
       "      <td>161.0</td>\n",
       "      <td>2.0</td>\n",
       "      <td>10</td>\n",
       "    </tr>\n",
       "    <tr>\n",
       "      <th>3</th>\n",
       "      <td>wAZZ-UWGVHI</td>\n",
       "      <td>Whenever I go to a place that doesn’t take App...</td>\n",
       "      <td>8.0</td>\n",
       "      <td>0.0</td>\n",
       "      <td>10</td>\n",
       "    </tr>\n",
       "    <tr>\n",
       "      <th>4</th>\n",
       "      <td>wAZZ-UWGVHI</td>\n",
       "      <td>Apple Pay is so convenient secure and easy to ...</td>\n",
       "      <td>34.0</td>\n",
       "      <td>2.0</td>\n",
       "      <td>10</td>\n",
       "    </tr>\n",
       "    <tr>\n",
       "      <th>...</th>\n",
       "      <td>...</td>\n",
       "      <td>...</td>\n",
       "      <td>...</td>\n",
       "      <td>...</td>\n",
       "      <td>...</td>\n",
       "    </tr>\n",
       "    <tr>\n",
       "      <th>18404</th>\n",
       "      <td>cyLWtMSry58</td>\n",
       "      <td>I really like the point about engineering tool...</td>\n",
       "      <td>0.0</td>\n",
       "      <td>2.0</td>\n",
       "      <td>10</td>\n",
       "    </tr>\n",
       "    <tr>\n",
       "      <th>18405</th>\n",
       "      <td>cyLWtMSry58</td>\n",
       "      <td>I’ve just started exploring this field And thi...</td>\n",
       "      <td>20.0</td>\n",
       "      <td>2.0</td>\n",
       "      <td>10</td>\n",
       "    </tr>\n",
       "    <tr>\n",
       "      <th>18406</th>\n",
       "      <td>cyLWtMSry58</td>\n",
       "      <td>Excelente video con una pregunta filosófica pr...</td>\n",
       "      <td>1.0</td>\n",
       "      <td>1.0</td>\n",
       "      <td>10</td>\n",
       "    </tr>\n",
       "    <tr>\n",
       "      <th>18407</th>\n",
       "      <td>cyLWtMSry58</td>\n",
       "      <td>Hey Daniel just discovered your channel a coup...</td>\n",
       "      <td>35.0</td>\n",
       "      <td>2.0</td>\n",
       "      <td>10</td>\n",
       "    </tr>\n",
       "    <tr>\n",
       "      <th>18408</th>\n",
       "      <td>cyLWtMSry58</td>\n",
       "      <td>This is great Focus is key A playful approach ...</td>\n",
       "      <td>0.0</td>\n",
       "      <td>2.0</td>\n",
       "      <td>10</td>\n",
       "    </tr>\n",
       "  </tbody>\n",
       "</table>\n",
       "<p>18409 rows × 5 columns</p>\n",
       "</div>"
      ],
      "text/plain": [
       "          Video ID                                            Comment  Likes  \\\n",
       "0      wAZZ-UWGVHI  Lets not forget that Apple Pay in 2014 require...   95.0   \n",
       "1      wAZZ-UWGVHI  Here in NZ 50 of retailers don’t even have con...   19.0   \n",
       "2      wAZZ-UWGVHI  I will forever acknowledge this channel with t...  161.0   \n",
       "3      wAZZ-UWGVHI  Whenever I go to a place that doesn’t take App...    8.0   \n",
       "4      wAZZ-UWGVHI  Apple Pay is so convenient secure and easy to ...   34.0   \n",
       "...            ...                                                ...    ...   \n",
       "18404  cyLWtMSry58  I really like the point about engineering tool...    0.0   \n",
       "18405  cyLWtMSry58  I’ve just started exploring this field And thi...   20.0   \n",
       "18406  cyLWtMSry58  Excelente video con una pregunta filosófica pr...    1.0   \n",
       "18407  cyLWtMSry58  Hey Daniel just discovered your channel a coup...   35.0   \n",
       "18408  cyLWtMSry58  This is great Focus is key A playful approach ...    0.0   \n",
       "\n",
       "       Sentiment  Num_Comments  \n",
       "0            1.0            10  \n",
       "1            0.0            10  \n",
       "2            2.0            10  \n",
       "3            0.0            10  \n",
       "4            2.0            10  \n",
       "...          ...           ...  \n",
       "18404        2.0            10  \n",
       "18405        2.0            10  \n",
       "18406        1.0            10  \n",
       "18407        2.0            10  \n",
       "18408        2.0            10  \n",
       "\n",
       "[18409 rows x 5 columns]"
      ]
     },
     "execution_count": 10,
     "metadata": {},
     "output_type": "execute_result"
    }
   ],
   "source": [
    "df_clean"
   ]
  },
  {
   "cell_type": "code",
   "execution_count": 11,
   "metadata": {},
   "outputs": [
    {
     "data": {
      "text/html": [
       "<div>\n",
       "<style scoped>\n",
       "    .dataframe tbody tr th:only-of-type {\n",
       "        vertical-align: middle;\n",
       "    }\n",
       "\n",
       "    .dataframe tbody tr th {\n",
       "        vertical-align: top;\n",
       "    }\n",
       "\n",
       "    .dataframe thead th {\n",
       "        text-align: right;\n",
       "    }\n",
       "</style>\n",
       "<table border=\"1\" class=\"dataframe\">\n",
       "  <thead>\n",
       "    <tr style=\"text-align: right;\">\n",
       "      <th></th>\n",
       "      <th>Video ID</th>\n",
       "      <th>Comment</th>\n",
       "      <th>Likes</th>\n",
       "      <th>Sentiment</th>\n",
       "    </tr>\n",
       "  </thead>\n",
       "  <tbody>\n",
       "    <tr>\n",
       "      <th>0</th>\n",
       "      <td>wAZZ-UWGVHI</td>\n",
       "      <td>Lets not forget that Apple Pay in 2014 require...</td>\n",
       "      <td>95.0</td>\n",
       "      <td>1.0</td>\n",
       "    </tr>\n",
       "    <tr>\n",
       "      <th>1</th>\n",
       "      <td>wAZZ-UWGVHI</td>\n",
       "      <td>Here in NZ 50 of retailers don’t even have con...</td>\n",
       "      <td>19.0</td>\n",
       "      <td>0.0</td>\n",
       "    </tr>\n",
       "    <tr>\n",
       "      <th>2</th>\n",
       "      <td>wAZZ-UWGVHI</td>\n",
       "      <td>I will forever acknowledge this channel with t...</td>\n",
       "      <td>161.0</td>\n",
       "      <td>2.0</td>\n",
       "    </tr>\n",
       "    <tr>\n",
       "      <th>3</th>\n",
       "      <td>wAZZ-UWGVHI</td>\n",
       "      <td>Whenever I go to a place that doesn’t take App...</td>\n",
       "      <td>8.0</td>\n",
       "      <td>0.0</td>\n",
       "    </tr>\n",
       "    <tr>\n",
       "      <th>4</th>\n",
       "      <td>wAZZ-UWGVHI</td>\n",
       "      <td>Apple Pay is so convenient secure and easy to ...</td>\n",
       "      <td>34.0</td>\n",
       "      <td>2.0</td>\n",
       "    </tr>\n",
       "    <tr>\n",
       "      <th>...</th>\n",
       "      <td>...</td>\n",
       "      <td>...</td>\n",
       "      <td>...</td>\n",
       "      <td>...</td>\n",
       "    </tr>\n",
       "    <tr>\n",
       "      <th>17785</th>\n",
       "      <td>cyLWtMSry58</td>\n",
       "      <td>I really like the point about engineering tool...</td>\n",
       "      <td>0.0</td>\n",
       "      <td>2.0</td>\n",
       "    </tr>\n",
       "    <tr>\n",
       "      <th>17786</th>\n",
       "      <td>cyLWtMSry58</td>\n",
       "      <td>I’ve just started exploring this field And thi...</td>\n",
       "      <td>20.0</td>\n",
       "      <td>2.0</td>\n",
       "    </tr>\n",
       "    <tr>\n",
       "      <th>17787</th>\n",
       "      <td>cyLWtMSry58</td>\n",
       "      <td>Excelente video con una pregunta filosófica pr...</td>\n",
       "      <td>1.0</td>\n",
       "      <td>1.0</td>\n",
       "    </tr>\n",
       "    <tr>\n",
       "      <th>17788</th>\n",
       "      <td>cyLWtMSry58</td>\n",
       "      <td>Hey Daniel just discovered your channel a coup...</td>\n",
       "      <td>35.0</td>\n",
       "      <td>2.0</td>\n",
       "    </tr>\n",
       "    <tr>\n",
       "      <th>17789</th>\n",
       "      <td>cyLWtMSry58</td>\n",
       "      <td>This is great Focus is key A playful approach ...</td>\n",
       "      <td>0.0</td>\n",
       "      <td>2.0</td>\n",
       "    </tr>\n",
       "  </tbody>\n",
       "</table>\n",
       "<p>17790 rows × 4 columns</p>\n",
       "</div>"
      ],
      "text/plain": [
       "          Video ID                                            Comment  Likes  \\\n",
       "0      wAZZ-UWGVHI  Lets not forget that Apple Pay in 2014 require...   95.0   \n",
       "1      wAZZ-UWGVHI  Here in NZ 50 of retailers don’t even have con...   19.0   \n",
       "2      wAZZ-UWGVHI  I will forever acknowledge this channel with t...  161.0   \n",
       "3      wAZZ-UWGVHI  Whenever I go to a place that doesn’t take App...    8.0   \n",
       "4      wAZZ-UWGVHI  Apple Pay is so convenient secure and easy to ...   34.0   \n",
       "...            ...                                                ...    ...   \n",
       "17785  cyLWtMSry58  I really like the point about engineering tool...    0.0   \n",
       "17786  cyLWtMSry58  I’ve just started exploring this field And thi...   20.0   \n",
       "17787  cyLWtMSry58  Excelente video con una pregunta filosófica pr...    1.0   \n",
       "17788  cyLWtMSry58  Hey Daniel just discovered your channel a coup...   35.0   \n",
       "17789  cyLWtMSry58  This is great Focus is key A playful approach ...    0.0   \n",
       "\n",
       "       Sentiment  \n",
       "0            1.0  \n",
       "1            0.0  \n",
       "2            2.0  \n",
       "3            0.0  \n",
       "4            2.0  \n",
       "...          ...  \n",
       "17785        2.0  \n",
       "17786        2.0  \n",
       "17787        1.0  \n",
       "17788        2.0  \n",
       "17789        2.0  \n",
       "\n",
       "[17790 rows x 4 columns]"
      ]
     },
     "execution_count": 11,
     "metadata": {},
     "output_type": "execute_result"
    }
   ],
   "source": [
    "df_clean = df_clean.loc[df_clean['Num_Comments'].isin([10,20])].reset_index(drop=True)\n",
    "df_clean = df_clean.drop(columns=['Num_Comments'])\n",
    "df_clean"
   ]
  },
  {
   "cell_type": "code",
   "execution_count": 12,
   "metadata": {},
   "outputs": [
    {
     "data": {
      "text/plain": [
       "2.0    11129\n",
       "1.0     4403\n",
       "0.0     2258\n",
       "Name: Sentiment, dtype: int64"
      ]
     },
     "execution_count": 12,
     "metadata": {},
     "output_type": "execute_result"
    }
   ],
   "source": [
    "df_clean['Sentiment'].value_counts()"
   ]
  },
  {
   "cell_type": "code",
   "execution_count": 13,
   "metadata": {},
   "outputs": [
    {
     "data": {
      "text/plain": [
       "mqc6QqoGNWI    20\n",
       "kkOweffr3II    20\n",
       "R-R0KrXvWbc    20\n",
       "96mrgd8-3yE    20\n",
       "RFMi3v0TXP8    20\n",
       "               ..\n",
       "yTqafU2dWeg    10\n",
       "JgOW7_3mszg    10\n",
       "_zxhBau3IU8    10\n",
       "xAiogA2S3dw    10\n",
       "cyLWtMSry58    10\n",
       "Name: Video ID, Length: 1768, dtype: int64"
      ]
     },
     "execution_count": 13,
     "metadata": {},
     "output_type": "execute_result"
    }
   ],
   "source": [
    "df_clean['Video ID'].value_counts()"
   ]
  },
  {
   "cell_type": "code",
   "execution_count": 15,
   "metadata": {},
   "outputs": [
    {
     "data": {
      "text/plain": [
       "0"
      ]
     },
     "execution_count": 15,
     "metadata": {},
     "output_type": "execute_result"
    }
   ],
   "source": [
    "sum(df_clean['Video ID'].isna())"
   ]
  },
  {
   "cell_type": "code",
   "execution_count": 16,
   "metadata": {},
   "outputs": [
    {
     "data": {
      "text/plain": [
       "0"
      ]
     },
     "execution_count": 16,
     "metadata": {},
     "output_type": "execute_result"
    }
   ],
   "source": [
    "sum(df_clean['Video ID'] == '')"
   ]
  },
  {
   "cell_type": "code",
   "execution_count": 22,
   "metadata": {},
   "outputs": [
    {
     "data": {
      "text/html": [
       "<div>\n",
       "<style scoped>\n",
       "    .dataframe tbody tr th:only-of-type {\n",
       "        vertical-align: middle;\n",
       "    }\n",
       "\n",
       "    .dataframe tbody tr th {\n",
       "        vertical-align: top;\n",
       "    }\n",
       "\n",
       "    .dataframe thead th {\n",
       "        text-align: right;\n",
       "    }\n",
       "</style>\n",
       "<table border=\"1\" class=\"dataframe\">\n",
       "  <thead>\n",
       "    <tr style=\"text-align: right;\">\n",
       "      <th></th>\n",
       "      <th>Video ID</th>\n",
       "      <th>Comment</th>\n",
       "      <th>Likes</th>\n",
       "      <th>Sentiment</th>\n",
       "    </tr>\n",
       "  </thead>\n",
       "  <tbody>\n",
       "    <tr>\n",
       "      <th>1</th>\n",
       "      <td>wAZZ-UWGVHI</td>\n",
       "      <td>Here in NZ 50 of retailers don’t even have con...</td>\n",
       "      <td>19.0</td>\n",
       "      <td>0.0</td>\n",
       "    </tr>\n",
       "    <tr>\n",
       "      <th>3</th>\n",
       "      <td>wAZZ-UWGVHI</td>\n",
       "      <td>Whenever I go to a place that doesn’t take App...</td>\n",
       "      <td>8.0</td>\n",
       "      <td>0.0</td>\n",
       "    </tr>\n",
       "  </tbody>\n",
       "</table>\n",
       "</div>"
      ],
      "text/plain": [
       "      Video ID                                            Comment  Likes  \\\n",
       "1  wAZZ-UWGVHI  Here in NZ 50 of retailers don’t even have con...   19.0   \n",
       "3  wAZZ-UWGVHI  Whenever I go to a place that doesn’t take App...    8.0   \n",
       "\n",
       "   Sentiment  \n",
       "1        0.0  \n",
       "3        0.0  "
      ]
     },
     "execution_count": 22,
     "metadata": {},
     "output_type": "execute_result"
    }
   ],
   "source": [
    "df_clean[df_clean.index.isin([1,3])]"
   ]
  },
  {
   "cell_type": "code",
   "execution_count": 25,
   "metadata": {},
   "outputs": [
    {
     "data": {
      "text/html": [
       "<div>\n",
       "<style scoped>\n",
       "    .dataframe tbody tr th:only-of-type {\n",
       "        vertical-align: middle;\n",
       "    }\n",
       "\n",
       "    .dataframe tbody tr th {\n",
       "        vertical-align: top;\n",
       "    }\n",
       "\n",
       "    .dataframe thead th {\n",
       "        text-align: right;\n",
       "    }\n",
       "</style>\n",
       "<table border=\"1\" class=\"dataframe\">\n",
       "  <thead>\n",
       "    <tr style=\"text-align: right;\">\n",
       "      <th></th>\n",
       "      <th>Video ID</th>\n",
       "      <th>Comment</th>\n",
       "      <th>Likes</th>\n",
       "      <th>Sentiment</th>\n",
       "    </tr>\n",
       "  </thead>\n",
       "  <tbody>\n",
       "    <tr>\n",
       "      <th>0</th>\n",
       "      <td>wAZZ-UWGVHI</td>\n",
       "      <td>Lets not forget that Apple Pay in 2014 require...</td>\n",
       "      <td>95.0</td>\n",
       "      <td>1.0</td>\n",
       "    </tr>\n",
       "    <tr>\n",
       "      <th>1</th>\n",
       "      <td>wAZZ-UWGVHI</td>\n",
       "      <td>Here in NZ 50 of retailers don’t even have con...</td>\n",
       "      <td>19.0</td>\n",
       "      <td>0.0</td>\n",
       "    </tr>\n",
       "    <tr>\n",
       "      <th>2</th>\n",
       "      <td>wAZZ-UWGVHI</td>\n",
       "      <td>I will forever acknowledge this channel with t...</td>\n",
       "      <td>161.0</td>\n",
       "      <td>2.0</td>\n",
       "    </tr>\n",
       "    <tr>\n",
       "      <th>3</th>\n",
       "      <td>wAZZ-UWGVHI</td>\n",
       "      <td>Whenever I go to a place that doesn’t take App...</td>\n",
       "      <td>8.0</td>\n",
       "      <td>0.0</td>\n",
       "    </tr>\n",
       "    <tr>\n",
       "      <th>4</th>\n",
       "      <td>wAZZ-UWGVHI</td>\n",
       "      <td>Apple Pay is so convenient secure and easy to ...</td>\n",
       "      <td>34.0</td>\n",
       "      <td>2.0</td>\n",
       "    </tr>\n",
       "    <tr>\n",
       "      <th>...</th>\n",
       "      <td>...</td>\n",
       "      <td>...</td>\n",
       "      <td>...</td>\n",
       "      <td>...</td>\n",
       "    </tr>\n",
       "    <tr>\n",
       "      <th>17785</th>\n",
       "      <td>cyLWtMSry58</td>\n",
       "      <td>I really like the point about engineering tool...</td>\n",
       "      <td>0.0</td>\n",
       "      <td>2.0</td>\n",
       "    </tr>\n",
       "    <tr>\n",
       "      <th>17786</th>\n",
       "      <td>cyLWtMSry58</td>\n",
       "      <td>I’ve just started exploring this field And thi...</td>\n",
       "      <td>20.0</td>\n",
       "      <td>2.0</td>\n",
       "    </tr>\n",
       "    <tr>\n",
       "      <th>17787</th>\n",
       "      <td>cyLWtMSry58</td>\n",
       "      <td>Excelente video con una pregunta filosófica pr...</td>\n",
       "      <td>1.0</td>\n",
       "      <td>1.0</td>\n",
       "    </tr>\n",
       "    <tr>\n",
       "      <th>17788</th>\n",
       "      <td>cyLWtMSry58</td>\n",
       "      <td>Hey Daniel just discovered your channel a coup...</td>\n",
       "      <td>35.0</td>\n",
       "      <td>2.0</td>\n",
       "    </tr>\n",
       "    <tr>\n",
       "      <th>17789</th>\n",
       "      <td>cyLWtMSry58</td>\n",
       "      <td>This is great Focus is key A playful approach ...</td>\n",
       "      <td>0.0</td>\n",
       "      <td>2.0</td>\n",
       "    </tr>\n",
       "  </tbody>\n",
       "</table>\n",
       "<p>17790 rows × 4 columns</p>\n",
       "</div>"
      ],
      "text/plain": [
       "          Video ID                                            Comment  Likes  \\\n",
       "0      wAZZ-UWGVHI  Lets not forget that Apple Pay in 2014 require...   95.0   \n",
       "1      wAZZ-UWGVHI  Here in NZ 50 of retailers don’t even have con...   19.0   \n",
       "2      wAZZ-UWGVHI  I will forever acknowledge this channel with t...  161.0   \n",
       "3      wAZZ-UWGVHI  Whenever I go to a place that doesn’t take App...    8.0   \n",
       "4      wAZZ-UWGVHI  Apple Pay is so convenient secure and easy to ...   34.0   \n",
       "...            ...                                                ...    ...   \n",
       "17785  cyLWtMSry58  I really like the point about engineering tool...    0.0   \n",
       "17786  cyLWtMSry58  I’ve just started exploring this field And thi...   20.0   \n",
       "17787  cyLWtMSry58  Excelente video con una pregunta filosófica pr...    1.0   \n",
       "17788  cyLWtMSry58  Hey Daniel just discovered your channel a coup...   35.0   \n",
       "17789  cyLWtMSry58  This is great Focus is key A playful approach ...    0.0   \n",
       "\n",
       "       Sentiment  \n",
       "0            1.0  \n",
       "1            0.0  \n",
       "2            2.0  \n",
       "3            0.0  \n",
       "4            2.0  \n",
       "...          ...  \n",
       "17785        2.0  \n",
       "17786        2.0  \n",
       "17787        1.0  \n",
       "17788        2.0  \n",
       "17789        2.0  \n",
       "\n",
       "[17790 rows x 4 columns]"
      ]
     },
     "execution_count": 25,
     "metadata": {},
     "output_type": "execute_result"
    }
   ],
   "source": [
    "df_clean"
   ]
  },
  {
   "cell_type": "code",
   "execution_count": 31,
   "metadata": {},
   "outputs": [
    {
     "data": {
      "text/plain": [
       "'en'"
      ]
     },
     "execution_count": 31,
     "metadata": {},
     "output_type": "execute_result"
    }
   ],
   "source": [
    "from langdetect import detect\n",
    "detect(df_clean['Comment'][17787])"
   ]
  },
  {
   "cell_type": "code",
   "execution_count": 34,
   "metadata": {},
   "outputs": [
    {
     "name": "stdout",
     "output_type": "stream",
     "text": [
      "अनलिमिटेड बॉलीवुड मूवीज का मजा लेने के लिए हमें जल्दी व्हॉट्स ऍप कीजिये\n",
      "यहाँ क्लिक करे httpapiwhatsappcomsendphone918097426767textHelloMovies\n",
      "और सेंड बटन पर क्लिक करे जल्दी करे \n"
     ]
    },
    {
     "data": {
      "text/plain": [
       "'hi'"
      ]
     },
     "execution_count": 34,
     "metadata": {},
     "output_type": "execute_result"
    }
   ],
   "source": [
    "print(df_clean['Comment'][16834])\n",
    "detect(df_clean['Comment'][16834])"
   ]
  },
  {
   "cell_type": "code",
   "execution_count": 43,
   "metadata": {},
   "outputs": [
    {
     "data": {
      "text/plain": [
       "'0:00\\xa0\\xa0\\xa0\\xa0\\xa0\\xa0 -\\xa0 Intro 4:34\\xa0\\xa0\\xa0\\xa0\\xa0\\xa0 -\\xa0 Fundamentals of ML 25:22\\xa0\\xa0\\xa0\\xa0 -\\xa0 Supervised VS Unsupervised 35:39\\xa0\\xa0\\xa0\\xa0 -\\xa0 Linear Regression 1:07:06\\xa0 -\\xa0 Logistic Regression 1:24:12\\xa0 -\\xa0 Project: House price predictor 1:45:16\\xa0 -\\xa0 Regularization 2:01:12\\xa0 -\\xa0 Support vector machines 2:29:55\\xa0 -\\xa0 Project: Stock price predictor 3:05:55\\xa0 -\\xa0 Principal component analysis 3:29:14\\xa0 -\\xa0 Learning theory 3:47:38\\xa0 -\\xa0 Decision trees 4:58:19\\xa0 -\\xa0 Ensemble learning 5:53:28\\xa0 -\\xa0 Boosting, pt 1 6:11:16\\xa0 -\\xa0 Boosting, pt 2 6:44:10\\xa0 -\\xa0 Stacking Ensemble Learning 7:09:52\\xa0 -\\xa0 Unsupervised Learning, pt 1 7:26:58\\xa0 -\\xa0 Unsupervised Learning, pt 2 7:55:16\\xa0 -\\xa0 K-Means 8:20:21\\xa0 -\\xa0 Hierarchical Clustering 8:50:28\\xa0 -\\xa0 Project: Heart failure prediction 9:33:29\\xa0 -\\xa0 Project: Spam/Ham Detector please, enjoy!'"
      ]
     },
     "execution_count": 43,
     "metadata": {},
     "output_type": "execute_result"
    }
   ],
   "source": [
    "df_clean = pd.read_csv(\"../data/processed/comments_clean.csv\")\n",
    "df_clean['Comment'][16258]"
   ]
  },
  {
   "cell_type": "code",
   "execution_count": null,
   "metadata": {},
   "outputs": [],
   "source": []
  }
 ],
 "metadata": {
  "kernelspec": {
   "display_name": "Python 3.10.4 ('taed')",
   "language": "python",
   "name": "python3"
  },
  "language_info": {
   "codemirror_mode": {
    "name": "ipython",
    "version": 3
   },
   "file_extension": ".py",
   "mimetype": "text/x-python",
   "name": "python",
   "nbconvert_exporter": "python",
   "pygments_lexer": "ipython3",
   "version": "3.10.4"
  },
  "vscode": {
   "interpreter": {
    "hash": "025c0aba4221b3da9a885e5aca70245362a44602d165372a325b50456c8902a4"
   }
  }
 },
 "nbformat": 4,
 "nbformat_minor": 4
}
